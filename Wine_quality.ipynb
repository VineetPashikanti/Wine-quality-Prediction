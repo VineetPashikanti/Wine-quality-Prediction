etting up the development environment by importing required libraries and modules:
Numpy: It will provide the support for efficient numerical computation.
Pandas: It is convenient library that supports dataframes. Working with pandas will bring ease in many crucial data operations.
Matplotlib: It provides a MATLAB-like plotting framework.
Seaborn: It is a visualization library based on matplotlib which provides a high-level interface for drawing attractive statistical graphics.
Bokeh: It is a interactive visualization library that targets modern web browsers for presentation.
Statsmodel: It provides functions and classes for statistical tests and models.
Sklearn: It is python library for data mining, data analysis and machine learning.
https://www.kaggle.com/code/krithika1789/red-wine-data-analysis-descriptive-predictive?scriptVersionId=9896373&cellId=3
Loading the Red Wine dataset
Lets read the red wine data set from the 'UCI Machine Learning Repository'.
Here, we can use the read_csv() from the pandas library to load data into dataframe from the remote url.
https://www.kaggle.com/code/krithika1789/red-wine-data-analysis-descriptive-predictive?scriptVersionId=9896373&cellId=5
The head(..) function of pandas helps in viewing the preview of the dataset for n-number of rows
https://www.kaggle.com/code/krithika1789/red-wine-data-analysis-descriptive-predictive?scriptVersionId=9896373&cellId=7
https://www.kaggle.com/code/krithika1789/red-wine-data-analysis-descriptive-predictive?scriptVersionId=9896373&cellId=8
https://www.kaggle.com/code/krithika1789/red-wine-data-analysis-descriptive-predictive?scriptVersionId=9896373&cellId=10
https://www.kaggle.com/code/krithika1789/red-wine-data-analysis-descriptive-predictive?scriptVersionId=9896373&cellId=11
